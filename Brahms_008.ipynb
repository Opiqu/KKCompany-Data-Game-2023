{
 "cells": [
  {
   "cell_type": "code",
   "execution_count": 3,
   "metadata": {},
   "outputs": [],
   "source": [
    "import pandas as pd\n",
    "import random\n",
    "\n",
    "# 假設這些 DataFrame 已經被正確地讀入\n",
    "# label_test_source, label_train_source, sessionid_10_artistid, label_train_target, same_songs_16_20, All_Artists_Top5\n",
    "# Load your data\n",
    "label_test_source = pd.read_parquet('label_test_source.parquet')\n",
    "label_train_source = pd.read_parquet('label_train_source.parquet')\n",
    "label_train_target = pd.read_parquet('label_train_target.parquet')\n",
    "same_songs_16_20 = pd.read_csv('song_la3.csv')\n",
    "sessionid_10_artistid = pd.read_csv('sessionid_10_artistid.csv')\n",
    "All_Artists_Top5 = pd.read_csv('All_Artists_Top5.csv')\n",
    "\n",
    "def predict_next_songs(test_source, train_source, train_target, same_songs, artist_10_session, artists_top5):\n",
    "    predictions = []\n",
    "\n",
    "    for index, test_session in test_source.groupby('session_id'):\n",
    "        # 檢查是否所有歌曲相同\n",
    "        if test_session['song_id'].tolist() == train_source[train_source['session_id'] == index]['song_id'].tolist():\n",
    "            predicted_songs = train_target[train_target['session_id'] == index].sort_values(by='listening_order')['song_id'].tolist()\n",
    "        \n",
    "        # 檢查是否後五首歌相同\n",
    "        elif index in same_songs['test_session_id'].values:\n",
    "            train_session_id = same_songs[same_songs['test_session_id'] == index]['train_session_id'].iloc[0]\n",
    "            predicted_songs = train_target[train_target['session_id'] == train_session_id].sort_values(by='listening_order')['song_id'].tolist()\n",
    "\n",
    "        # 檢查是否聽了同一藝術家的10首歌\n",
    "        elif index in artist_10_session['session_id'].values:\n",
    "            artists = artist_10_session[artist_10_session['session_id'] == index]['listened_artists'].tolist()\n",
    "            predicted_songs = artists_top5[artists_top5['artist_id'].isin(artists)].nlargest(5, 'play_count')['song_id'].tolist()\n",
    "\n",
    "        else:\n",
    "            # 隨機選擇5首歌\n",
    "            predicted_songs = random.sample(test_session['song_id'].tolist(), 5)\n",
    "\n",
    "        # 確保預測沒有空值\n",
    "        if len(predicted_songs) < 5:\n",
    "            predicted_songs += random.sample(test_session['song_id'].tolist(), 5 - len(predicted_songs))\n",
    "\n",
    "        predictions.append([index] + predicted_songs[:5])\n",
    "\n",
    "    return pd.DataFrame(predictions, columns=['session_id', 'top1', 'top2', 'top3', 'top4', 'top5'])\n",
    "\n",
    "# 調用函數並輸出預測結果\n",
    "predicted_df = predict_next_songs(label_test_source, label_train_source, label_train_target, same_songs_16_20, sessionid_10_artistid, All_Artists_Top5)\n",
    "predicted_df.to_csv('song_predictionsla2.csv', index=False)"
   ]
  }
 ],
 "metadata": {
  "kernelspec": {
   "display_name": "Python 3",
   "language": "python",
   "name": "python3"
  },
  "language_info": {
   "codemirror_mode": {
    "name": "ipython",
    "version": 3
   },
   "file_extension": ".py",
   "mimetype": "text/x-python",
   "name": "python",
   "nbconvert_exporter": "python",
   "pygments_lexer": "ipython3",
   "version": "3.7.3"
  }
 },
 "nbformat": 4,
 "nbformat_minor": 2
}
